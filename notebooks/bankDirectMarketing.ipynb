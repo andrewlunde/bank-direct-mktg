{
 "cells": [
  {
   "cell_type": "markdown",
   "metadata": {},
   "source": [
    "# Logistic Regression Example\n",
    "## Bank dataset to determine if a customer would buy a CD\n",
    "The data is related with direct marketing campaigns of a Portuguese banking institution.  The marketing campaigns were based on phone calls.  A number of features such as age, kind of job, marital status, education level, credit default, existence of housing loan, etc. were considered.  The classification goal is to predict if the client will subscribe (yes/no) a term deposit.\n",
    "\n",
    "More information regarding the data set is at https://archive.ics.uci.edu/ml/datasets/bank+marketing#.\n",
    "\n",
    "<font color='blue'>__ The objective is to demonstrate the use of logistic regression and to tune hyperparameters enet_lamba and enet_alpha. __</font>\n",
    "\n",
    "## Attribute Information:\n",
    "\n",
    "### Input variables:\n",
    "#### Bank client data:\n",
    "1. age (numeric)\n",
    "2. job : type of job (categorical: 'admin.','blue-collar','entrepreneur','housemaid','management','retired','self-employed','services','student','technician','unemployed','unknown')\n",
    "3. marital : marital status (categorical: 'divorced','married','single','unknown'; note: 'divorced' means divorced or widowed)\n",
    "4. education (categorical: 'basic.4y','basic.6y','basic.9y','high.school','illiterate','professional.course','university.degree','unknown')\n",
    "5. default: has credit in default? (categorical: 'no','yes','unknown')\n",
    "6. housing: has housing loan? (categorical: 'no','yes','unknown')\n",
    "7. loan: has personal loan? (categorical: 'no','yes','unknown')\n",
    "\n",
    "#### Related with the last contact of the current campaign:\n",
    "8. contact: contact communication type (categorical: 'cellular','telephone') \n",
    "9. month: last contact month of year (categorical: 'jan', 'feb', 'mar', ..., 'nov', 'dec')\n",
    "10. day_of_week: last contact day of the week (categorical: 'mon','tue','wed','thu','fri')\n",
    "11. duration: last contact duration, in seconds (numeric). Important note: this attribute highly affects the output target (e.g., if duration=0 then y='no'). Yet, the duration is not known before a call is performed. Also, after the end of the call y is obviously known. Thus, this input should only be included for benchmark purposes and should be discarded if the intention is to have a realistic predictive model.\n",
    "\n",
    "#### Other attributes:\n",
    "12. campaign: number of contacts performed during this campaign and for this client (numeric, includes last contact)\n",
    "13. pdays: number of days that passed by after the client was last contacted from a previous campaign (numeric; 999 means client was not previously contacted)\n",
    "14. previous: number of contacts performed before this campaign and for this client (numeric)\n",
    "15. poutcome: outcome of the previous marketing campaign (categorical: 'failure','nonexistent','success')\n",
    "\n",
    "#### Social and economic context attributes:\n",
    "16. emp.var.rate: employment variation rate - quarterly indicator (numeric)\n",
    "17. cons.price.idx: consumer price index - monthly indicator (numeric) \n",
    "18. cons.conf.idx: consumer confidence index - monthly indicator (numeric) \n",
    "19. euribor3m: euribor 3 month rate - daily indicator (numeric)\n",
    "20. nr.employed: number of employees - quarterly indicator (numeric)\n",
    "\n",
    "### Output variable (desired target):\n",
    "21. y - has the client subscribed a term deposit? (binary: 'yes','no')\n"
   ]
  },
  {
   "cell_type": "markdown",
   "metadata": {},
   "source": [
    "# Initialization\n",
    "Set up the imports, logging, and loading of the data sets."
   ]
  },
  {
   "source": [
    "Hana ML Library can be found at: [https://pypi.org/project/hana-ml/](https://pypi.org/project/hana-ml/) [Documentation](https://help.sap.com/doc/1d0ebfe5e8dd44d09606814d83308d4b/2.0.05/en-US/index.html)\n",
    "\n",
    "Verify with: \n",
    "```\n",
    "pip list | grep hana\n",
    "```"
   ],
   "cell_type": "markdown",
   "metadata": {}
  },
  {
   "cell_type": "code",
   "execution_count": 1,
   "metadata": {},
   "outputs": [],
   "source": [
    "from hana_ml import dataframe"
   ]
  },
  {
   "cell_type": "code",
   "execution_count": 2,
   "metadata": {},
   "outputs": [],
   "source": [
    "from hana_ml.algorithms.pal import linear_model"
   ]
  },
  {
   "cell_type": "code",
   "execution_count": 3,
   "metadata": {},
   "outputs": [],
   "source": [
    "from hana_ml.algorithms.pal import clustering"
   ]
  },
  {
   "cell_type": "code",
   "execution_count": 4,
   "metadata": {},
   "outputs": [],
   "source": [
    "from hana_ml.algorithms.pal import trees"
   ]
  },
  {
   "cell_type": "code",
   "execution_count": 5,
   "metadata": {},
   "outputs": [],
   "source": [
    "import numpy as np"
   ]
  },
  {
   "cell_type": "code",
   "execution_count": 6,
   "metadata": {},
   "outputs": [],
   "source": [
    "import numpy as np"
   ]
  },
  {
   "cell_type": "code",
   "execution_count": 7,
   "metadata": {},
   "outputs": [],
   "source": [
    "import matplotlib.pyplot as plt"
   ]
  },
  {
   "cell_type": "code",
   "execution_count": 8,
   "metadata": {},
   "outputs": [],
   "source": [
    "import logging"
   ]
  },
  {
   "cell_type": "code",
   "execution_count": 9,
   "metadata": {},
   "outputs": [],
   "source": [
    "from IPython.core.display import Image, display"
   ]
  },
  {
   "cell_type": "markdown",
   "metadata": {},
   "source": [
    "## Load data\n",
    "The data is loaded into 3 tables, one for the test set, another for the training set, and finally the validation set:\n",
    "<li>DBM2_RTEST_TBL</li>\n",
    "<li>DBM2_RTRAINING_TBL</li>\n",
    "<li>DBM2_RVALIDATION_TBL</li>\n",
    "\n",
    "To do that, a connection is created and passed to the loader.\n",
    "\n",
    "There is a config file, config/e2edata.ini that controls the connection parameters and whether or not to reload the data from scratch.  In case the data is already loaded, there would be no need to load the data.  A sample section is below.  If the config parameter, reload_data is true then the tables for test, training, and validation are (re-)created and data inserted into them.\n",
    "\n",
    "Although this ini file has other sections, please do not modify them. Only the [hana] section should be modified.\n",
    "\n",
    "#########################<br>\n",
    "[hana]<br>\n",
    "url=host.sjc.sap.corp<br>\n",
    "user=username<br>\n",
    "passwd=userpassword<br>\n",
    "port=3xx15<br>\n",
    "#########################<br>"
   ]
  },
  {
   "source": [
    "https://blogs.sap.com/2020/01/16/hana-ml-dataframe-end-to-end-methods-and-its-usage/\n",
    "\n",
    "https://blogs.sap.com/2019/09/03/association-algorithms-hana-ml-apis/"
   ],
   "cell_type": "markdown",
   "metadata": {}
  },
  {
   "cell_type": "code",
   "execution_count": 10,
   "metadata": {},
   "outputs": [],
   "source": [
    "from data_load_utils import DataSets, Settings"
   ]
  },
  {
   "cell_type": "code",
   "execution_count": 26,
   "metadata": {},
   "outputs": [],
   "source": [
    "url, port, user, pwd, schema, cert = Settings.load_config(\"../config/e2edata.ini\")"
   ]
  },
  {
   "source": [
    "```\n",
    "cf create-service hana schema BANK_DIR_MKTG -c '{\"database_id\":\"ffa845c4-c70e-4774-ba37-c0a6fdf16850\",\"schema\":\"BANK_DIR_MKTG\"}'\n",
    "cf create-service-key BANK_DIR_MKTG BANK_Key\n",
    "cf service-key BANK_DIR_MKTG BANK_Key\n",
    "```"
   ],
   "cell_type": "markdown",
   "metadata": {}
  },
  {
   "source": [
    "### In SQL Console as DBADMIN/SYSTEM\n",
    "\n",
    "```\n",
    "GRANT CATALOG READ TO BANK_DIR_MKTG;\n",
    "GRANT AFLPM_CREATOR_ERASER_EXECUTE TO BANK_DIR_MKTG;\n",
    "GRANT AFL__SYS_AFL_AFLPAL_EXECUTE TO BANK_DIR_MKTG;\n",
    "```\n",
    "\n"
   ],
   "cell_type": "markdown",
   "metadata": {}
  },
  {
   "source": [
    "## Edit e2edata.ini\n",
    "\n",
    "host -> url\n",
    "\n",
    "port -> port\n",
    "\n",
    "user -> user\n",
    "\n",
    "password -> passwd\n",
    "\n",
    "schema -> schema\n",
    "\n",
    "certificate -> cert\n"
   ],
   "cell_type": "markdown",
   "metadata": {}
  },
  {
   "source": [
    "```\n",
    "cf service-key BANK_DIR_MKTG BANK_Key | grep certificate | cut -f 2 -d ':' | cut -f 1 -d ',' | tr -ds '\\\\n' ''\n",
    "```"
   ],
   "cell_type": "markdown",
   "metadata": {}
  },
  {
   "source": [
    "cert = \"-----BEGIN CERTIFICATE-----MIIDrzCCApegAwIBAgIQCDvgVpBCRrGhdWrJWZHHSjANBgkqhkiG9w0BAQUFADBhMQswCQYDVQQGEwJVUzEVMBMGA1UEChMMRGlnaUNlcnQgSW5jMRkwFwYDVQQLExB3d3cuZGlnaWNlcnQuY29tMSAwHgYDVQQDExdEaWdpQ2VydCBHbG9iYWwgUm9vdCBDQTAeFw0wNjExMTAwMDAwMDBaFw0zMTExMTAwMDAwMDBaMGExCzAJBgNVBAYTAlVTMRUwEwYDVQQKEwxEaWdpQ2VydCBJbmMxGTAXBgNVBAsTEHd3dy5kaWdpY2VydC5jb20xIDAeBgNVBAMTF0RpZ2lDZXJ0IEdsb2JhbCBSb290IENBMIIBIjANBgkqhkiG9w0BAQEFAAOCAQ8AMIIBCgKCAQEA4jvhEXLeqKTTo1eqUKKPC3eQyaKl7hLOllsBCSDMAZOnTjC3U/dDxGkAV53ijSLdhwZAAIEJzs4bg7/fzTtxRuLWZscFs3YnFo97nh6Vfe63SKMI2tavegw5BmV/Sl0fvBf4q77uKNd0f3p4mVmFaG5cIzJLv07A6Fpt43C/dxC//AH2hdmoRBBYMql1GNXRor5H4idq9Joz+EkIYIvUX7Q6hL+hqkpMfT7PT19sdl6gSzeRntwi5m3OFBqOasv+zbMUZBfHWymeMr/y7vrTC0LUq7dBMtoM1O/4gdW7jVg/tRvoSSiicNoxBN33shbyTApOB6jtSj1etX+jkMOvJwIDAQABo2MwYTAOBgNVHQ8BAf8EBAMCAYYwDwYDVR0TAQH/BAUwAwEB/zAdBgNVHQ4EFgQUA95QNVbRTLtm8KPiGxvDl7I90VUwHwYDVR0jBBgwFoAUA95QNVbRTLtm8KPiGxvDl7I90VUwDQYJKoZIhvcNAQEFBQADggEBAMucN6pIExIK+t1EnE9SsPTfrgT1eXkIoyQY/EsrhMAtudXH/vTBH1jLuG2cenTnmCmrEbXjcKChzUyImZOMkXDiqw8cvpOp/2PV5Adg06O/nVsJ8dWO41P0jmP6P6fbtGbfYmbW0W5BjfIttep3Sp+dWOIrWcBAI+0tKIJFPnlUkiaY4IBIqDfv8NZ5YBberOgOzW6sRBc4L0na4UU+Krk2U886UAb3LujEV0lsYSEY1QSteDwsOoBrp+uvFRTp2InBuThs4pFsiv9kuXclVzDAGySj4dzp30d8tbQkCAUw7C29C79Fv1C5qfPrmAESrciIxpg0X40KPMbp1ZWVbd4=-----END CERTIFICATE-----\""
   ],
   "cell_type": "code",
   "metadata": {},
   "execution_count": 27,
   "outputs": []
  },
  {
   "cell_type": "code",
   "execution_count": 28,
   "metadata": {},
   "outputs": [],
   "source": [
    "#connection_context = dataframe.ConnectionContext(url, port, user, pwd)"
   ]
  },
  {
   "source": [
    "## Connect Method and Python Connection Properties\n",
    "\n",
    "https://help.sap.com/viewer/0eec0d68141541d1b07893a39944924e/latest/en-US/ee592e89dcce4480a99571a4ae7a702f.html"
   ],
   "cell_type": "markdown",
   "metadata": {}
  },
  {
   "cell_type": "code",
   "execution_count": 29,
   "metadata": {},
   "outputs": [],
   "source": [
    "connection_context = dataframe.ConnectionContext(address=url, port=int(port), user=user, password=pwd, currentSchema=schema, encrypt=\"true\", sslValidateCertificate=\"true\", sslCryptoProvider=\"openssl\", sslTrustStore=cert)"
   ]
  },
  {
   "cell_type": "code",
   "execution_count": 30,
   "metadata": {},
   "outputs": [
    {
     "output_type": "stream",
     "name": "stderr",
     "text": [
      "ERROR:hana_ml.dataframe:Failed to get row count for the current Dataframe, (259, 'invalid table name:  Could not find table/view DBM2_RFULL_TBL in schema BANK_DIR_MKTG: line 1 col 37 (at pos 36)')\n",
      "Table DBM2_RFULL_TBL doesn't exist in schema BANK_DIR_MKTG\n",
      "Creating table DBM2_RFULL_TBL in schema BANK_DIR_MKTG ....\n",
      "Drop unsuccessful\n",
      "Creating table BANK_DIR_MKTG.DBM2_RFULL_TBL\n",
      "Drop unsuccessful\n",
      "Creating table BANK_DIR_MKTG.DBM2_RTRAINING_TBL\n",
      "Drop unsuccessful\n",
      "Creating table BANK_DIR_MKTG.DBM2_RVALIDATION_TBL\n",
      "Drop unsuccessful\n",
      "Creating table BANK_DIR_MKTG.DBM2_RTEST_TBL\n",
      "Data Loaded:24%\n",
      "Data Loaded:48%\n",
      "Data Loaded:72%\n",
      "Data Loaded:97%\n",
      "Data Loaded:100%\n"
     ]
    }
   ],
   "source": [
    "full_tbl, training_tbl, validation_tbl, test_tbl = DataSets.load_bank_data(connection_context)"
   ]
  },
  {
   "cell_type": "markdown",
   "metadata": {},
   "source": [
    "# Create Data Frames\n",
    "Create the data frames for the full, test, training, and validation sets.\n",
    "\n",
    "Let us also do some data exploration."
   ]
  },
  {
   "cell_type": "markdown",
   "metadata": {},
   "source": [
    "## Define Datasets - Training, validation, and test sets\n",
    "Data frames are used keep references to data so computation on large data sets in HANA can happen in HANA.  Trying to bring the entire data set into the client will likely result in out of memory exceptions.\n",
    "\n",
    "The original/full dataset is split into training, test and validation sets.  In the example below, they reside in different tables."
   ]
  },
  {
   "cell_type": "code",
   "execution_count": 31,
   "metadata": {},
   "outputs": [],
   "source": [
    "#ping ld5501.wdf.sap.corp\n",
    "#from pythonping import ping\n",
    "#ping('ld5501.wdf.sap.corp', verbose=True)\n"
   ]
  },
  {
   "cell_type": "code",
   "execution_count": 32,
   "metadata": {},
   "outputs": [],
   "source": [
    "full_set = connection_context.table(full_tbl)"
   ]
  },
  {
   "cell_type": "code",
   "execution_count": 33,
   "metadata": {},
   "outputs": [],
   "source": [
    "training_set = connection_context.table(training_tbl)"
   ]
  },
  {
   "cell_type": "code",
   "execution_count": 34,
   "metadata": {},
   "outputs": [],
   "source": [
    "validation_set = connection_context.table(validation_tbl)"
   ]
  },
  {
   "cell_type": "code",
   "execution_count": 35,
   "metadata": {},
   "outputs": [],
   "source": [
    "test_set = connection_context.table(test_tbl)"
   ]
  },
  {
   "cell_type": "markdown",
   "metadata": {},
   "source": [
    "## Simple Exploration\n",
    "Let us look at the number of rows in the data set"
   ]
  },
  {
   "cell_type": "code",
   "execution_count": 36,
   "metadata": {
    "scrolled": true
   },
   "outputs": [
    {
     "output_type": "stream",
     "name": "stdout",
     "text": [
      "Number of rows in full set: 41188\nNumber of rows in training set: 20594\nNumber of rows in validation set: 16475\nNumber of rows in test set: 4119\n"
     ]
    }
   ],
   "source": [
    "print('Number of rows in full set: {}'.format(full_set.count()))\n",
    "print('Number of rows in training set: {}'.format(training_set.count()))\n",
    "print('Number of rows in validation set: {}'.format(validation_set.count()))\n",
    "print('Number of rows in test set: {}'.format(test_set.count()))"
   ]
  },
  {
   "cell_type": "markdown",
   "metadata": {},
   "source": [
    "Let's look at the columns"
   ]
  },
  {
   "cell_type": "code",
   "execution_count": null,
   "metadata": {},
   "outputs": [],
   "source": [
    "#ping ld5501.wdf.sap.corp\n"
   ]
  },
  {
   "cell_type": "markdown",
   "metadata": {},
   "source": [
    "Let's look at the data types"
   ]
  },
  {
   "cell_type": "code",
   "execution_count": 37,
   "metadata": {},
   "outputs": [
    {
     "output_type": "execute_result",
     "data": {
      "text/plain": [
       "[('ID', 'INT', 10, 10, 10, 0),\n",
       " ('AGE', 'INT', 10, 10, 10, 0),\n",
       " ('JOB', 'NVARCHAR', 256, 256, 256, 0),\n",
       " ('MARITAL', 'NVARCHAR', 100, 100, 100, 0),\n",
       " ('EDUCATION', 'NVARCHAR', 256, 256, 256, 0),\n",
       " ('DBM_DEFAULT', 'NVARCHAR', 100, 100, 100, 0),\n",
       " ('HOUSING', 'NVARCHAR', 100, 100, 100, 0),\n",
       " ('LOAN', 'NVARCHAR', 100, 100, 100, 0),\n",
       " ('CONTACT', 'NVARCHAR', 100, 100, 100, 0),\n",
       " ('DBM_MONTH', 'NVARCHAR', 100, 100, 100, 0),\n",
       " ('DAY_OF_WEEK', 'NVARCHAR', 100, 100, 100, 0),\n",
       " ('DURATION', 'DOUBLE', 15, 15, 15, 0),\n",
       " ('CAMPAIGN', 'INT', 10, 10, 10, 0),\n",
       " ('PDAYS', 'INT', 10, 10, 10, 0),\n",
       " ('PREVIOUS', 'INT', 10, 10, 10, 0),\n",
       " ('POUTCOME', 'NVARCHAR', 100, 100, 100, 0),\n",
       " ('EMP_VAR_RATE', 'DOUBLE', 15, 15, 15, 0),\n",
       " ('CONS_PRICE_IDX', 'DOUBLE', 15, 15, 15, 0),\n",
       " ('CONS_CONF_IDX', 'DOUBLE', 15, 15, 15, 0),\n",
       " ('EURIBOR3M', 'DOUBLE', 15, 15, 15, 0),\n",
       " ('NREMPLOYED', 'INT', 10, 10, 10, 0),\n",
       " ('LABEL', 'NVARCHAR', 10, 10, 10, 0)]"
      ]
     },
     "metadata": {},
     "execution_count": 37
    }
   ],
   "source": [
    "full_set.dtypes()"
   ]
  },
  {
   "cell_type": "code",
   "execution_count": 38,
   "metadata": {},
   "outputs": [],
   "source": [
    "features = ['AGE','JOB','MARITAL','EDUCATION','DBM_DEFAULT', 'HOUSING','LOAN','CONTACT','DBM_MONTH','DAY_OF_WEEK','DURATION','CAMPAIGN','PDAYS','PREVIOUS','POUTCOME','EMP_VAR_RATE','CONS_PRICE_IDX','CONS_CONF_IDX','EURIBOR3M','NREMPLOYED']\n",
    "label = \"LABEL\""
   ]
  },
  {
   "cell_type": "markdown",
   "metadata": {},
   "source": [
    "### Let us look at some rows"
   ]
  },
  {
   "cell_type": "code",
   "execution_count": 39,
   "metadata": {},
   "outputs": [
    {
     "output_type": "execute_result",
     "data": {
      "text/plain": [
       "     ID  AGE          JOB  MARITAL          EDUCATION DBM_DEFAULT HOUSING  \\\n",
       "0  8746   54       admin.  married        high.school          no     yes   \n",
       "1  8041   36    housemaid  married        high.school          no     yes   \n",
       "2  8214   38   technician  married           basic.9y          no     yes   \n",
       "3  9441   42  blue-collar  married           basic.9y     unknown      no   \n",
       "4  8272   39       admin.  married  university.degree          no      no   \n",
       "\n",
       "  LOAN    CONTACT DBM_MONTH  ... CAMPAIGN  PDAYS  PREVIOUS     POUTCOME  \\\n",
       "0   no  telephone       jun  ...        1    999         0  nonexistent   \n",
       "1   no  telephone       jun  ...        1    999         0  nonexistent   \n",
       "2   no  telephone       jun  ...        1    999         0  nonexistent   \n",
       "3   no  telephone       jun  ...        1    999         0  nonexistent   \n",
       "4   no  telephone       jun  ...        1    999         0  nonexistent   \n",
       "\n",
       "   EMP_VAR_RATE CONS_PRICE_IDX  CONS_CONF_IDX  EURIBOR3M  NREMPLOYED  LABEL  \n",
       "0           1.4         94.465          -41.8      4.866        5228     no  \n",
       "1           1.4         94.465          -41.8      4.865        5228     no  \n",
       "2           1.4         94.465          -41.8      4.864        5228     no  \n",
       "3           1.4         94.465          -41.8      4.967        5228     no  \n",
       "4           1.4         94.465          -41.8      4.864        5228     no  \n",
       "\n",
       "[5 rows x 22 columns]"
      ],
      "text/html": "<div>\n<style scoped>\n    .dataframe tbody tr th:only-of-type {\n        vertical-align: middle;\n    }\n\n    .dataframe tbody tr th {\n        vertical-align: top;\n    }\n\n    .dataframe thead th {\n        text-align: right;\n    }\n</style>\n<table border=\"1\" class=\"dataframe\">\n  <thead>\n    <tr style=\"text-align: right;\">\n      <th></th>\n      <th>ID</th>\n      <th>AGE</th>\n      <th>JOB</th>\n      <th>MARITAL</th>\n      <th>EDUCATION</th>\n      <th>DBM_DEFAULT</th>\n      <th>HOUSING</th>\n      <th>LOAN</th>\n      <th>CONTACT</th>\n      <th>DBM_MONTH</th>\n      <th>...</th>\n      <th>CAMPAIGN</th>\n      <th>PDAYS</th>\n      <th>PREVIOUS</th>\n      <th>POUTCOME</th>\n      <th>EMP_VAR_RATE</th>\n      <th>CONS_PRICE_IDX</th>\n      <th>CONS_CONF_IDX</th>\n      <th>EURIBOR3M</th>\n      <th>NREMPLOYED</th>\n      <th>LABEL</th>\n    </tr>\n  </thead>\n  <tbody>\n    <tr>\n      <th>0</th>\n      <td>8746</td>\n      <td>54</td>\n      <td>admin.</td>\n      <td>married</td>\n      <td>high.school</td>\n      <td>no</td>\n      <td>yes</td>\n      <td>no</td>\n      <td>telephone</td>\n      <td>jun</td>\n      <td>...</td>\n      <td>1</td>\n      <td>999</td>\n      <td>0</td>\n      <td>nonexistent</td>\n      <td>1.4</td>\n      <td>94.465</td>\n      <td>-41.8</td>\n      <td>4.866</td>\n      <td>5228</td>\n      <td>no</td>\n    </tr>\n    <tr>\n      <th>1</th>\n      <td>8041</td>\n      <td>36</td>\n      <td>housemaid</td>\n      <td>married</td>\n      <td>high.school</td>\n      <td>no</td>\n      <td>yes</td>\n      <td>no</td>\n      <td>telephone</td>\n      <td>jun</td>\n      <td>...</td>\n      <td>1</td>\n      <td>999</td>\n      <td>0</td>\n      <td>nonexistent</td>\n      <td>1.4</td>\n      <td>94.465</td>\n      <td>-41.8</td>\n      <td>4.865</td>\n      <td>5228</td>\n      <td>no</td>\n    </tr>\n    <tr>\n      <th>2</th>\n      <td>8214</td>\n      <td>38</td>\n      <td>technician</td>\n      <td>married</td>\n      <td>basic.9y</td>\n      <td>no</td>\n      <td>yes</td>\n      <td>no</td>\n      <td>telephone</td>\n      <td>jun</td>\n      <td>...</td>\n      <td>1</td>\n      <td>999</td>\n      <td>0</td>\n      <td>nonexistent</td>\n      <td>1.4</td>\n      <td>94.465</td>\n      <td>-41.8</td>\n      <td>4.864</td>\n      <td>5228</td>\n      <td>no</td>\n    </tr>\n    <tr>\n      <th>3</th>\n      <td>9441</td>\n      <td>42</td>\n      <td>blue-collar</td>\n      <td>married</td>\n      <td>basic.9y</td>\n      <td>unknown</td>\n      <td>no</td>\n      <td>no</td>\n      <td>telephone</td>\n      <td>jun</td>\n      <td>...</td>\n      <td>1</td>\n      <td>999</td>\n      <td>0</td>\n      <td>nonexistent</td>\n      <td>1.4</td>\n      <td>94.465</td>\n      <td>-41.8</td>\n      <td>4.967</td>\n      <td>5228</td>\n      <td>no</td>\n    </tr>\n    <tr>\n      <th>4</th>\n      <td>8272</td>\n      <td>39</td>\n      <td>admin.</td>\n      <td>married</td>\n      <td>university.degree</td>\n      <td>no</td>\n      <td>no</td>\n      <td>no</td>\n      <td>telephone</td>\n      <td>jun</td>\n      <td>...</td>\n      <td>1</td>\n      <td>999</td>\n      <td>0</td>\n      <td>nonexistent</td>\n      <td>1.4</td>\n      <td>94.465</td>\n      <td>-41.8</td>\n      <td>4.864</td>\n      <td>5228</td>\n      <td>no</td>\n    </tr>\n  </tbody>\n</table>\n<p>5 rows × 22 columns</p>\n</div>"
     },
     "metadata": {},
     "execution_count": 39
    }
   ],
   "source": [
    "training_set.head(5).collect()"
   ]
  },
  {
   "cell_type": "code",
   "execution_count": 40,
   "metadata": {},
   "outputs": [
    {
     "output_type": "execute_result",
     "data": {
      "text/plain": [
       "      ID  AGE          JOB  MARITAL    EDUCATION DBM_DEFAULT HOUSING LOAN  \\\n",
       "0   9651   36   technician  married  high.school          no      no   no   \n",
       "1   9102   39     services  married  high.school          no     yes   no   \n",
       "2   8608   33   unemployed  married     basic.9y          no      no   no   \n",
       "3   8805   42  blue-collar  married     basic.4y     unknown     yes   no   \n",
       "4  14756   24  blue-collar  married     basic.9y     unknown      no   no   \n",
       "\n",
       "     CONTACT DBM_MONTH  ... CAMPAIGN  PDAYS  PREVIOUS     POUTCOME  \\\n",
       "0  telephone       jun  ...        1    999         0  nonexistent   \n",
       "1  telephone       jun  ...        1    999         0  nonexistent   \n",
       "2  telephone       jun  ...        1    999         0  nonexistent   \n",
       "3  telephone       jun  ...        1    999         0  nonexistent   \n",
       "4   cellular       jul  ...        1    999         0  nonexistent   \n",
       "\n",
       "   EMP_VAR_RATE CONS_PRICE_IDX  CONS_CONF_IDX  EURIBOR3M  NREMPLOYED  LABEL  \n",
       "0           1.4         94.465          -41.8      4.961        5228    yes  \n",
       "1           1.4         94.465          -41.8      4.967        5228    yes  \n",
       "2           1.4         94.465          -41.8      4.864        5228    yes  \n",
       "3           1.4         94.465          -41.8      4.866        5228    yes  \n",
       "4           1.4         93.918          -42.7      4.957        5228    yes  \n",
       "\n",
       "[5 rows x 22 columns]"
      ],
      "text/html": "<div>\n<style scoped>\n    .dataframe tbody tr th:only-of-type {\n        vertical-align: middle;\n    }\n\n    .dataframe tbody tr th {\n        vertical-align: top;\n    }\n\n    .dataframe thead th {\n        text-align: right;\n    }\n</style>\n<table border=\"1\" class=\"dataframe\">\n  <thead>\n    <tr style=\"text-align: right;\">\n      <th></th>\n      <th>ID</th>\n      <th>AGE</th>\n      <th>JOB</th>\n      <th>MARITAL</th>\n      <th>EDUCATION</th>\n      <th>DBM_DEFAULT</th>\n      <th>HOUSING</th>\n      <th>LOAN</th>\n      <th>CONTACT</th>\n      <th>DBM_MONTH</th>\n      <th>...</th>\n      <th>CAMPAIGN</th>\n      <th>PDAYS</th>\n      <th>PREVIOUS</th>\n      <th>POUTCOME</th>\n      <th>EMP_VAR_RATE</th>\n      <th>CONS_PRICE_IDX</th>\n      <th>CONS_CONF_IDX</th>\n      <th>EURIBOR3M</th>\n      <th>NREMPLOYED</th>\n      <th>LABEL</th>\n    </tr>\n  </thead>\n  <tbody>\n    <tr>\n      <th>0</th>\n      <td>9651</td>\n      <td>36</td>\n      <td>technician</td>\n      <td>married</td>\n      <td>high.school</td>\n      <td>no</td>\n      <td>no</td>\n      <td>no</td>\n      <td>telephone</td>\n      <td>jun</td>\n      <td>...</td>\n      <td>1</td>\n      <td>999</td>\n      <td>0</td>\n      <td>nonexistent</td>\n      <td>1.4</td>\n      <td>94.465</td>\n      <td>-41.8</td>\n      <td>4.961</td>\n      <td>5228</td>\n      <td>yes</td>\n    </tr>\n    <tr>\n      <th>1</th>\n      <td>9102</td>\n      <td>39</td>\n      <td>services</td>\n      <td>married</td>\n      <td>high.school</td>\n      <td>no</td>\n      <td>yes</td>\n      <td>no</td>\n      <td>telephone</td>\n      <td>jun</td>\n      <td>...</td>\n      <td>1</td>\n      <td>999</td>\n      <td>0</td>\n      <td>nonexistent</td>\n      <td>1.4</td>\n      <td>94.465</td>\n      <td>-41.8</td>\n      <td>4.967</td>\n      <td>5228</td>\n      <td>yes</td>\n    </tr>\n    <tr>\n      <th>2</th>\n      <td>8608</td>\n      <td>33</td>\n      <td>unemployed</td>\n      <td>married</td>\n      <td>basic.9y</td>\n      <td>no</td>\n      <td>no</td>\n      <td>no</td>\n      <td>telephone</td>\n      <td>jun</td>\n      <td>...</td>\n      <td>1</td>\n      <td>999</td>\n      <td>0</td>\n      <td>nonexistent</td>\n      <td>1.4</td>\n      <td>94.465</td>\n      <td>-41.8</td>\n      <td>4.864</td>\n      <td>5228</td>\n      <td>yes</td>\n    </tr>\n    <tr>\n      <th>3</th>\n      <td>8805</td>\n      <td>42</td>\n      <td>blue-collar</td>\n      <td>married</td>\n      <td>basic.4y</td>\n      <td>unknown</td>\n      <td>yes</td>\n      <td>no</td>\n      <td>telephone</td>\n      <td>jun</td>\n      <td>...</td>\n      <td>1</td>\n      <td>999</td>\n      <td>0</td>\n      <td>nonexistent</td>\n      <td>1.4</td>\n      <td>94.465</td>\n      <td>-41.8</td>\n      <td>4.866</td>\n      <td>5228</td>\n      <td>yes</td>\n    </tr>\n    <tr>\n      <th>4</th>\n      <td>14756</td>\n      <td>24</td>\n      <td>blue-collar</td>\n      <td>married</td>\n      <td>basic.9y</td>\n      <td>unknown</td>\n      <td>no</td>\n      <td>no</td>\n      <td>cellular</td>\n      <td>jul</td>\n      <td>...</td>\n      <td>1</td>\n      <td>999</td>\n      <td>0</td>\n      <td>nonexistent</td>\n      <td>1.4</td>\n      <td>93.918</td>\n      <td>-42.7</td>\n      <td>4.957</td>\n      <td>5228</td>\n      <td>yes</td>\n    </tr>\n  </tbody>\n</table>\n<p>5 rows × 22 columns</p>\n</div>"
     },
     "metadata": {},
     "execution_count": 40
    }
   ],
   "source": [
    "training_set.filter(\"\\\"LABEL\\\"='yes'\").head(5).collect()"
   ]
  },
  {
   "cell_type": "markdown",
   "metadata": {},
   "source": [
    "# Create Model and Tune Hyperparameters\n",
    "Try different hyperparameters and see what parameter is best.\n",
    "The results are stored in a list called res which can then be used to visualize the results.\n",
    "\n",
    "_The variable \"quick\" is to run the tests for only a few values to avoid running the code below for a long time._\n",
    "\n",
    "[hana_ml docs](https://help.sap.com/doc/1d0ebfe5e8dd44d09606814d83308d4b/2.0.05/en-US/index.html)\n",
    "\n",
    "[LogisticRegression Docs](https://help.sap.com/doc/1d0ebfe5e8dd44d09606814d83308d4b/2.0.05/en-US/hana_ml.algorithms.pal.html?highlight=logisticregression#hana_ml.algorithms.pal.linear_model.LogisticRegression)\n"
   ]
  },
  {
   "cell_type": "code",
   "execution_count": 41,
   "metadata": {},
   "outputs": [
    {
     "output_type": "error",
     "ename": "TypeError",
     "evalue": "__init__() got an unexpected keyword argument 'lamb'",
     "traceback": [
      "\u001b[0;31m---------------------------------------------------------------------------\u001b[0m",
      "\u001b[0;31mTypeError\u001b[0m                                 Traceback (most recent call last)",
      "\u001b[0;32m<ipython-input-41-3387e0d1fcf7>\u001b[0m in \u001b[0;36m<module>\u001b[0;34m\u001b[0m\n\u001b[1;32m      5\u001b[0m \u001b[0;32mfor\u001b[0m \u001b[0menet_alpha\u001b[0m \u001b[0;32min\u001b[0m \u001b[0menet_alphas\u001b[0m\u001b[0;34m:\u001b[0m\u001b[0;34m\u001b[0m\u001b[0;34m\u001b[0m\u001b[0m\n\u001b[1;32m      6\u001b[0m     \u001b[0;32mfor\u001b[0m \u001b[0menet_lambda\u001b[0m \u001b[0;32min\u001b[0m \u001b[0menet_lambdas\u001b[0m\u001b[0;34m:\u001b[0m\u001b[0;34m\u001b[0m\u001b[0;34m\u001b[0m\u001b[0m\n\u001b[0;32m----> 7\u001b[0;31m         lr = linear_model.LogisticRegression(connection_context, solver='Cyclical', tol=0.000001, max_iter=10000, \n\u001b[0m\u001b[1;32m      8\u001b[0m                                                \u001b[0mstat_inf\u001b[0m\u001b[0;34m=\u001b[0m\u001b[0;32mTrue\u001b[0m\u001b[0;34m,\u001b[0m\u001b[0mpmml_export\u001b[0m\u001b[0;34m=\u001b[0m\u001b[0;34m'multi-row'\u001b[0m\u001b[0;34m,\u001b[0m \u001b[0mlamb\u001b[0m\u001b[0;34m=\u001b[0m\u001b[0menet_lambda\u001b[0m\u001b[0;34m,\u001b[0m \u001b[0malpha\u001b[0m\u001b[0;34m=\u001b[0m\u001b[0menet_alpha\u001b[0m\u001b[0;34m,\u001b[0m\u001b[0;34m\u001b[0m\u001b[0;34m\u001b[0m\u001b[0m\n\u001b[1;32m      9\u001b[0m                                                class_map0='no', class_map1='yes')\n",
      "\u001b[0;31mTypeError\u001b[0m: __init__() got an unexpected keyword argument 'lamb'"
     ]
    }
   ],
   "source": [
    "quick = True\n",
    "enet_lambdas = np.linspace(0.01,0.02, endpoint=False, num=1) if quick else np.append(np.linspace(0.01,0.02, endpoint=False, num=4), np.linspace(0.02,0.02, num=5))\n",
    "enet_alphas = np.linspace(0, 1, num=4) if quick else np.linspace(0, 1, num=40)\n",
    "res = []\n",
    "for enet_alpha in enet_alphas:\n",
    "    for enet_lambda in enet_lambdas:\n",
    "        lr = linear_model.LogisticRegression(connection_context, solver='Cyclical', tol=0.000001, max_iter=10000, \n",
    "                                               stat_inf=True,pmml_export='multi-row', lamb=enet_lambda, alpha=enet_alpha,\n",
    "                                               class_map0='no', class_map1='yes')\n",
    "        lr.fit(training_set, features=features, label=label)\n",
    "        accuracy_val = lr.score(validation_set, 'ID', features, label)\n",
    "        res.append((enet_alpha, enet_lambda, accuracy_val, lr.coef_))"
   ]
  },
  {
   "cell_type": "markdown",
   "metadata": {},
   "source": [
    "## Graph the results\n",
    "Plot the accuracy on the validation set against the hyperparameters.\n",
    "\n",
    "This is only done if all the combinations are tried."
   ]
  },
  {
   "cell_type": "code",
   "execution_count": null,
   "metadata": {},
   "outputs": [],
   "source": [
    "# import matplotlib.pyplot as plt\n",
    "import matplotlib.pyplot as plt\n",
    "%matplotlib inline\n",
    "if not quick:\n",
    "    arry = np.asarray(res)\n",
    "    fig = plt.figure(figsize=(10,10))\n",
    "    plt.title(\"Validation accuracy for training set with different lambdas\")\n",
    "    ax = fig.add_subplot(111)\n",
    "    most_accurate_lambda = arry[np.argmax(arry[:,2]),1]\n",
    "    best_accuracy_arg = np.argmax(arry[:,2])\n",
    "    for lamda in enet_lambdas:\n",
    "        if lamda == most_accurate_lambda:\n",
    "            ax.plot(arry[arry[:,1]==lamda][:,0], arry[arry[:,1]==lamda][:,2], label=\"%.3f\" % round(lamda,3), linewidth=5, c='r')\n",
    "        else:\n",
    "            ax.plot(arry[arry[:,1]==lamda][:,0], arry[arry[:,1]==lamda][:,2], label=\"%.3f\" % round(lamda,3))\n",
    "    plt.legend(loc=1, title=\"Legend (Lambda)\", fancybox=True, fontsize=12)\n",
    "    ax.set_xlabel('Alpha', fontsize=12)\n",
    "    ax.set_ylabel('Accuracy', fontsize=12)\n",
    "    plt.xticks(fontsize=12)\n",
    "    plt.yticks(fontsize=12)\n",
    "    plt.grid()\n",
    "    plt.show()\n",
    "    print(\"Best accuracy: %.4f\" % (arry[best_accuracy_arg][2]))\n",
    "    print(\"Value of alpha for maximum accuracy: %.3f\\nValue of lambda for maximum accuracy: %.3f\\n\" % (arry[best_accuracy_arg][0], arry[best_accuracy_arg][1]))\n",
    "else:\n",
    "    display(Image('images/bank-data-hyperparameter-tuning.png', width=800, unconfined=True))\n",
    "    print(\"Best accuracy: 0.9148\")\n",
    "    print(\"Value of alpha for maximum accuracy: 0.769\")\n",
    "    print(\"Value of lambda for maximum accuracy: 0.010\")"
   ]
  },
  {
   "cell_type": "markdown",
   "metadata": {},
   "source": [
    "# Predictions on test set\n",
    "Let us do the predictions on the test set using these values of alpha and lambda"
   ]
  },
  {
   "cell_type": "code",
   "execution_count": null,
   "metadata": {},
   "outputs": [],
   "source": [
    "alpha = 0.769\n",
    "lamda = 0.01\n",
    "lr = linear_model.LogisticRegression(connection_context, solver='Cyclical', tol=0.000001, max_iter=10000, \n",
    "                                       stat_inf=True,pmml_export='multi-row', lamb=lamda, alpha=alpha,\n",
    "                                       class_map0='no', class_map1='yes')\n",
    "lr.fit(training_set, features=features, label=label)"
   ]
  },
  {
   "cell_type": "markdown",
   "metadata": {},
   "source": [
    "## Look at the coefficients\n",
    "The coefficients are again a data frame. So, we sort and get the top 5."
   ]
  },
  {
   "cell_type": "code",
   "execution_count": null,
   "metadata": {},
   "outputs": [],
   "source": [
    "lr.coef_.sort(\"COEFFICIENT\", desc=True).head(5).collect()"
   ]
  },
  {
   "cell_type": "markdown",
   "metadata": {},
   "source": [
    "## Look at the predictions"
   ]
  },
  {
   "cell_type": "code",
   "execution_count": null,
   "metadata": {},
   "outputs": [],
   "source": [
    "result_df = lr.predict(test_set, 'ID')\n",
    "result_df.filter('\"CLASS\"=\\'no\\'').head(5).collect()"
   ]
  },
  {
   "cell_type": "code",
   "execution_count": null,
   "metadata": {},
   "outputs": [],
   "source": [
    "result_df.filter('\"CLASS\"=\\'yes\\'').head(5).collect()"
   ]
  },
  {
   "cell_type": "markdown",
   "metadata": {},
   "source": [
    "## What about the final score?"
   ]
  },
  {
   "cell_type": "code",
   "execution_count": null,
   "metadata": {},
   "outputs": [],
   "source": [
    "lr.score(test_set, 'ID')"
   ]
  },
  {
   "cell_type": "code",
   "execution_count": null,
   "metadata": {},
   "outputs": [],
   "source": []
  },
  {
   "cell_type": "code",
   "execution_count": null,
   "metadata": {},
   "outputs": [],
   "source": []
  }
 ],
 "metadata": {
  "kernelspec": {
   "display_name": "Python 3",
   "language": "python",
   "name": "python3"
  },
  "language_info": {
   "codemirror_mode": {
    "name": "ipython",
    "version": 3
   },
   "file_extension": ".py",
   "mimetype": "text/x-python",
   "name": "python",
   "nbconvert_exporter": "python",
   "pygments_lexer": "ipython3",
   "version": "3.9.0-final"
  }
 },
 "nbformat": 4,
 "nbformat_minor": 2
}